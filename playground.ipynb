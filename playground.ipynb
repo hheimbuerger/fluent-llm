{
 "cells": [
  {
   "cell_type": "code",
   "execution_count": null,
   "id": "99fb1e35",
   "metadata": {},
   "outputs": [],
   "source": [
    "from openai import OpenAI\n",
    "import base64\n",
    "\n",
    "client = OpenAI()\n",
    "\n",
    "response = client.responses.create(\n",
    "    model=\"gpt-4.1-mini\",\n",
    "    input=\"Generate an image of gray tabby cat hugging an otter with an orange scarf\",\n",
    "    tools=[{\"type\": \"image_generation\"}],\n",
    ")\n",
    "\n",
    "# Save the image to a file\n",
    "image_data = [\n",
    "    output.result\n",
    "    for output in response.output\n",
    "    if output.type == \"image_generation_call\"\n",
    "]\n",
    "\n",
    "if image_data:\n",
    "    image_base64 = image_data[0]\n",
    "    with open(\"otter.png\", \"wb\") as f:\n",
    "        f.write(base64.b64decode(image_base64))"
   ]
  },
  {
   "cell_type": "code",
   "execution_count": 7,
   "id": "7a9686c2",
   "metadata": {},
   "outputs": [
    {
     "name": "stdout",
     "output_type": "stream",
     "text": [
      "['ADAPTIVE', 'AFFINE', 'Any', 'BICUBIC', 'BILINEAR', 'BOX', 'Callable', 'DECODERS', 'DEFAULT_STRATEGY', 'DecompressionBombError', 'DecompressionBombWarning', 'DeferredError', 'Dither', 'ENCODERS', 'EXTENSION', 'EXTENT', 'ElementTree', 'Exif', 'ExifTags', 'FASTOCTREE', 'FILTERED', 'FIXED', 'FLIP_LEFT_RIGHT', 'FLIP_TOP_BOTTOM', 'FLOYDSTEINBERG', 'HAMMING', 'HUFFMAN_ONLY', 'ID', 'IO', 'Image', 'ImageMode', 'ImagePointHandler', 'ImagePointTransform', 'ImageTransformHandler', 'IntEnum', 'Iterator', 'LANCZOS', 'LIBIMAGEQUANT', 'Literal', 'MAXCOVERAGE', 'MAX_IMAGE_PIXELS', 'MEDIANCUT', 'MESH', 'MIME', 'MODES', 'ModuleType', 'MutableMapping', 'NEAREST', 'NONE', 'OPEN', 'ORDERED', 'PERSPECTIVE', 'Palette', 'Protocol', 'QUAD', 'Quantize', 'RASTERIZE', 'RLE', 'ROTATE_180', 'ROTATE_270', 'ROTATE_90', 'Resampling', 'SAVE', 'SAVE_ALL', 'Sequence', 'SupportsArrayInterface', 'SupportsArrowArrayInterface', 'SupportsGetData', 'TRANSPOSE', 'TRANSVERSE', 'TYPE_CHECKING', 'TiffTags', 'Transform', 'Transpose', 'UnidentifiedImageError', 'WARN_POSSIBLE_FORMATS', 'WEB', '_ENDIAN', '_ExifBase', '_MAPMODES', '__annotations__', '__builtins__', '__cached__', '__doc__', '__file__', '__loader__', '__name__', '__package__', '__spec__', '__version__', '_apply_env_variables', '_check_size', '_conv_type_shape', '_decompression_bomb_check', '_filters_support', '_fromarray_typemap', '_getdecoder', '_getencoder', '_getscaleoffset', '_initialized', '_plugins', '_show', 'abc', 'alpha_composite', 'annotations', 'atexit', 'blend', 'builtins', 'cast', 'composite', 'core', 'deprecate', 'effect_mandelbrot', 'effect_noise', 'enum', 'eval', 'fromarray', 'fromarrow', 'frombuffer', 'frombytes', 'fromqimage', 'fromqpixmap', 'getmodebandnames', 'getmodebands', 'getmodebase', 'getmodetype', 'i32le', 'init', 'io', 'isImageType', 'is_path', 'item', 'linear_gradient', 'logger', 'logging', 'math', 'merge', 'module', 'new', 'o32be', 'o32le', 'open', 'os', 'preinit', 'radial_gradient', 're', 'register_decoder', 'register_encoder', 'register_extension', 'register_extensions', 'register_mime', 'register_open', 'register_save', 'register_save_all', 'registered_extensions', 'struct', 'sys', 'tempfile', 'warnings']\n",
      "<class 'type'>\n"
     ]
    }
   ],
   "source": [
    "import PIL.Image\n",
    "\n",
    "print(dir(PIL.Image))\n",
    "print(type(PIL.Image.Image))"
   ]
  },
  {
   "cell_type": "code",
   "execution_count": 6,
   "id": "c6e120cc",
   "metadata": {},
   "outputs": [
    {
     "data": {
      "text/plain": [
       "'This image depicts a stylized representation of a fish. It often symbolizes themes like water, marine life, or even certain cultural meanings in various contexts. If you have a specific question or need more information, feel free to ask!'"
      ]
     },
     "execution_count": 6,
     "metadata": {},
     "output_type": "execute_result"
    }
   ],
   "source": [
    "from fluent_llm import llm\n",
    "\n",
    "PATH = r'D:\\Development\\MapLearner\\backend\\drawing.png'\n",
    "\n",
    "await llm.image(PATH).request('What is this?').prompt()"
   ]
  },
  {
   "cell_type": "code",
   "execution_count": 3,
   "id": "b3a2839a",
   "metadata": {},
   "outputs": [
    {
     "name": "stdout",
     "output_type": "stream",
     "text": [
      "\n",
      "=== Last API Call Usage ===\n",
      "Model: gpt-4o-mini-2024-07-18\n",
      "input_tokens: 11 tokens\n",
      "output_tokens: 18 tokens\n",
      "\n",
      "💰 Cost Breakdown:\n",
      "  input_tokens: 11 tokens @ $0.15/MTok → $0.000002\n",
      "  output_tokens: 18 tokens @ $0.6/MTok → $0.000011\n",
      "\n",
      "💵 Total Call Cost: $0.000012\n",
      "==============================\n",
      "\n"
     ]
    }
   ],
   "source": [
    "from fluent_llm import llm\n",
    "await llm.request('How are you?').prompt()\n",
    "print(llm.usage)"
   ]
  },
  {
   "cell_type": "code",
   "execution_count": null,
   "id": "6495adab",
   "metadata": {},
   "outputs": [
    {
     "name": "stdout",
     "output_type": "stream",
     "text": [
      "0.000002\n"
     ]
    }
   ],
   "source": [
    "from fluent_llm import llm\n",
    "img = await llm.request('How are you?').prompt()\n",
    "print(f'${llm.usage.cost.breakdown['input_tokens'].cost_usd:.6f}')\n"
   ]
  }
 ],
 "metadata": {
  "kernelspec": {
   "display_name": ".venv",
   "language": "python",
   "name": "python3"
  },
  "language_info": {
   "codemirror_mode": {
    "name": "ipython",
    "version": 3
   },
   "file_extension": ".py",
   "mimetype": "text/x-python",
   "name": "python",
   "nbconvert_exporter": "python",
   "pygments_lexer": "ipython3",
   "version": "3.12.9"
  }
 },
 "nbformat": 4,
 "nbformat_minor": 5
}
