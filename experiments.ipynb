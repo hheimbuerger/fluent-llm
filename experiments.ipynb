{
 "cells": [
  {
   "cell_type": "code",
   "execution_count": null,
   "id": "e9ab773a",
   "metadata": {},
   "outputs": [
    {
     "data": {
      "text/plain": [
       "[AgentMessage(text='You are a personal assistant with access to the local filesystem.', role=<Role.SYSTEM: 'system'>),\n",
       " TextMessage(text='I am on Windows 11. My username is `henri`. Read the file \"interactive fiction notes.txt\" from my desktop and guess what game it could be about.', role=<Role.USER: 'user'>),\n",
       " ToolCallMessage(tool_name='read_file', tool_call_id='toolu_01Jif1btkMpBTs9S38eDwQNj', arguments={'filename': 'C:\\\\Users\\\\henri\\\\Desktop\\\\interactive fiction notes.txt'}, role=<Role.ASSISTANT: 'assistant'>),\n",
       " ToolResultMessage(tool_call_id='toolu_01Jif1btkMpBTs9S38eDwQNj', result=\"Pharmacy & my office: 934 West Sherman\\nSugar's House: 520 S. Kedzie\\nJoey Siegel house: 1212 West End St.\\n  * has photo of Sugar Shack\\nJoe's Bar: 1060 South Peoria Street\\nSafe: 33-24-36\\n\\nNotes:\\n* I am Ace Harding, private eye\\n* Lady house is locked\\n* hit the hooker\\n* In the trunk: Mrs. Sternwood\\n* Mercedes is Siegel's, hooker has prepared it\\n* Pharmacy:\\n  - Vial: Specimen 11/13 Todd Zipman\\n  - Vial: Sodium Bicarbonate\\n  - Bisodiumitis: get a memory\\n  - Ofreeall: die\\n  - Sodium pentathol: feel dizzy, want to sleep\\n  - Chemopapain: feel like a new man\\n\\nQs:\\n* what to do with the map?\\n* Todd Zipman?\\n* combination lock in pharmacy\\n\\nStory:\\n* I am Ace Harding, private eye with gambling dept (>$1000) with Joe Siegel\\n* Job offer (by whom?): kidnap Mrs. Sternwood to get even.\\n* According to diary: Sugar had a relationship with Joey Siegel, then wants to win John Sternwood (alderman?) over, to live life of wealth\\n* Joey Siegel and Sugar Shack (Ms. Vickers?) have grudge: Siegel did something to her\\n* Sugar Shack had something against the alderman, but Ace destroyed evidence and she went 5 years to prison for it.\\n* After prison, she put bomb into Joey Siegel's Mercedes and Mrs. Sternwood in the trunk.\\n* A couple of days ago, John Sternwood received ransom note for kidnapped wife, which demanded that Ace delivers the ransom. Also mentioned that Ace would receive further instructions in private (kept from John Sternwood). Don't know what they were or how they were received.\", role=<Role.USER: 'user'>),\n",
       " TextMessage(text='\\n\\nBased on these notes, this appears to be about a **classic noir detective interactive fiction game**, likely **\"Deadline\" or a similar noir mystery game from the 1980s**, possibly even **\"The Big Sleep\"** inspired work.\\n\\nThe game seems to be set in a noir detective story where:\\n\\n- **You play as Ace Harding**, a private eye with gambling debts\\n- The plot involves a complex web of **kidnapping, blackmail, and revenge**\\n- Key characters include Joey Siegel (likely a gangster/crime boss), Sugar Shack/Ms. Vickers (a woman with a grudge), Mrs. Sternwood (kidnap victim), and John Sternwood (an alderman)\\n- There\\'s a **ticking time bomb** literally - in Joey Siegel\\'s Mercedes with Mrs. Sternwood in the trunk\\n\\nThe style and setup - with addresses, safes with combinations, various items and their effects, and the morally gray protagonist caught between criminals - is very reminiscent of **1980s-era text adventure games**, particularly those from Infocom or similar developers.\\n\\nThe references to \"Sugar Shack,\" the noir atmosphere, and the protagonist name \"Ace Harding\" suggest this could be notes for playing or designing a game in the style of classic hard-boiled detective fiction, similar to Raymond Chandler or Dashiell Hammett stories.', role=<Role.ASSISTANT: 'assistant'>)]"
      ]
     },
     "execution_count": 1,
     "metadata": {},
     "output_type": "execute_result"
    }
   ],
   "source": [
    "from fluent_llm import llm\n",
    "\n",
    "def read_file(filename: str) -> str:\n",
    "    \"\"\" Reads a file and returns its contents as a string. \"\"\"\n",
    "    with open(filename, 'r') as f:\n",
    "        return f.read()\n",
    "\n",
    "conversation, llm_continuation = await llm \\\n",
    "    .model('claude-sonnet-4-5-20250929') \\\n",
    "    .agent('You are a personal assistant with access to the local filesystem.') \\\n",
    "    .tool(read_file) \\\n",
    "    .request('I am on Windows 11. My username is `henri`. Read the file \"interactive fiction notes.txt\" from my desktop and guess what game it could be about.')\n",
    "    .prompt_conversation()\n",
    "\n",
    "conversation"
   ]
  },
  {
   "cell_type": "code",
   "execution_count": 2,
   "id": "1dd410a5",
   "metadata": {},
   "outputs": [
    {
     "data": {
      "text/plain": [
       "[{'role': 'system',\n",
       "  'content': 'You are a personal assistant with access to the local filesystem.'},\n",
       " {'role': 'user',\n",
       "  'content': 'I am on Windows 11. My username is `henri`. Read the file \"interactive fiction notes.txt\" from my desktop and guess what game it could be about.'},\n",
       " {'role': 'assistant',\n",
       "  'content': {'tool_name': 'read_file',\n",
       "   'tool_call_id': 'toolu_01Jif1btkMpBTs9S38eDwQNj',\n",
       "   'arguments': {'filename': 'C:\\\\Users\\\\henri\\\\Desktop\\\\interactive fiction notes.txt'}}},\n",
       " {'role': 'user',\n",
       "  'content': {'tool_call_id': 'toolu_01Jif1btkMpBTs9S38eDwQNj',\n",
       "   'result': \"Pharmacy & my office: 934 West Sherman\\nSugar's House: 520 S. Kedzie\\nJoey Siegel house: 1212 West End St.\\n  * has photo of Sugar Shack\\nJoe's Bar: 1060 South Peoria Street\\nSafe: 33-24-36\\n\\nNotes:\\n* I am Ace Harding, private eye\\n* Lady house is locked\\n* hit the hooker\\n* In the trunk: Mrs. Sternwood\\n* Mercedes is Siegel's, hooker has prepared it\\n* Pharmacy:\\n  - Vial: Specimen 11/13 Todd Zipman\\n  - Vial: Sodium Bicarbonate\\n  - Bisodiumitis: get a memory\\n  - Ofreeall: die\\n  - Sodium pentathol: feel dizzy, want to sleep\\n  - Chemopapain: feel like a new man\\n\\nQs:\\n* what to do with the map?\\n* Todd Zipman?\\n* combination lock in pharmacy\\n\\nStory:\\n* I am Ace Harding, private eye with gambling dept (>$1000) with Joe Siegel\\n* Job offer (by whom?): kidnap Mrs. Sternwood to get even.\\n* According to diary: Sugar had a relationship with Joey Siegel, then wants to win John Sternwood (alderman?) over, to live life of wealth\\n* Joey Siegel and Sugar Shack (Ms. Vickers?) have grudge: Siegel did something to her\\n* Sugar Shack had something against the alderman, but Ace destroyed evidence and she went 5 years to prison for it.\\n* After prison, she put bomb into Joey Siegel's Mercedes and Mrs. Sternwood in the trunk.\\n* A couple of days ago, John Sternwood received ransom note for kidnapped wife, which demanded that Ace delivers the ransom. Also mentioned that Ace would receive further instructions in private (kept from John Sternwood). Don't know what they were or how they were received.\"}},\n",
       " {'role': 'assistant',\n",
       "  'content': '\\n\\nBased on these notes, this appears to be about a **classic noir detective interactive fiction game**, likely **\"Deadline\" or a similar noir mystery game from the 1980s**, possibly even **\"The Big Sleep\"** inspired work.\\n\\nThe game seems to be set in a noir detective story where:\\n\\n- **You play as Ace Harding**, a private eye with gambling debts\\n- The plot involves a complex web of **kidnapping, blackmail, and revenge**\\n- Key characters include Joey Siegel (likely a gangster/crime boss), Sugar Shack/Ms. Vickers (a woman with a grudge), Mrs. Sternwood (kidnap victim), and John Sternwood (an alderman)\\n- There\\'s a **ticking time bomb** literally - in Joey Siegel\\'s Mercedes with Mrs. Sternwood in the trunk\\n\\nThe style and setup - with addresses, safes with combinations, various items and their effects, and the morally gray protagonist caught between criminals - is very reminiscent of **1980s-era text adventure games**, particularly those from Infocom or similar developers.\\n\\nThe references to \"Sugar Shack,\" the noir atmosphere, and the protagonist name \"Ace Harding\" suggest this could be notes for playing or designing a game in the style of classic hard-boiled detective fiction, similar to Raymond Chandler or Dashiell Hammett stories.'}]"
      ]
     },
     "execution_count": 2,
     "metadata": {},
     "output_type": "execute_result"
    }
   ],
   "source": [
    "llm_continuation._conversation_state.internal_session"
   ]
  },
  {
   "cell_type": "code",
   "execution_count": null,
   "id": "78a01f7b",
   "metadata": {},
   "outputs": [
    {
     "data": {
      "text/plain": [
       "[ToolCallMessage(tool_name='read_file', tool_call_id='toolu_01Jif1btkMpBTs9S38eDwQNj', arguments={'filename': 'C:\\\\Users\\\\henri\\\\Desktop\\\\interactive fiction notes.txt'}, role=<Role.ASSISTANT: 'assistant'>)]"
      ]
     },
     "execution_count": 10,
     "metadata": {},
     "output_type": "execute_result"
    }
   ],
   "source": [
    "from fluent_llm.messages import ToolCallMessage\n",
    "calls = [c for c in conversation if isinstance(c, ToolCallMessage)]"
   ]
  },
  {
   "cell_type": "code",
   "execution_count": 4,
   "id": "337e782a",
   "metadata": {},
   "outputs": [
    {
     "name": "stdout",
     "output_type": "stream",
     "text": [
      "\n",
      "\n",
      "Based on these notes, this appears to be about a **classic noir detective interactive fiction game**, likely **\"Deadline\" or a similar noir mystery game from the 1980s**, possibly even **\"The Big Sleep\"** inspired work.\n",
      "\n",
      "The game seems to be set in a noir detective story where:\n",
      "\n",
      "- **You play as Ace Harding**, a private eye with gambling debts\n",
      "- The plot involves a complex web of **kidnapping, blackmail, and revenge**\n",
      "- Key characters include Joey Siegel (likely a gangster/crime boss), Sugar Shack/Ms. Vickers (a woman with a grudge), Mrs. Sternwood (kidnap victim), and John Sternwood (an alderman)\n",
      "- There's a **ticking time bomb** literally - in Joey Siegel's Mercedes with Mrs. Sternwood in the trunk\n",
      "\n",
      "The style and setup - with addresses, safes with combinations, various items and their effects, and the morally gray protagonist caught between criminals - is very reminiscent of **1980s-era text adventure games**, particularly those from Infocom or similar developers.\n",
      "\n",
      "The references to \"Sugar Shack,\" the noir atmosphere, and the protagonist name \"Ace Harding\" suggest this could be notes for playing or designing a game in the style of classic hard-boiled detective fiction, similar to Raymond Chandler or Dashiell Hammett stories.\n"
     ]
    }
   ],
   "source": [
    "print(conversation[-1].text)"
   ]
  },
  {
   "cell_type": "code",
   "execution_count": null,
   "id": "92f3bda5",
   "metadata": {},
   "outputs": [
    {
     "name": "stdout",
     "output_type": "stream",
     "text": [
      "\n",
      "\n",
      "Based on these notes, this appears to be about a **noir detective/crime interactive fiction game** - likely **\"Deadline\" or a similar game from the classic Infocom era**, though the specific details suggest it could be a custom or lesser-known game with noir themes.\n",
      "\n",
      "The game seems to involve:\n",
      "- **You playing as Ace Harding**, a private eye with gambling debts\n",
      "- A complex web of crime involving kidnapping, blackmail, and revenge\n",
      "- **Mrs. Sternwood** (kidnapped and placed in a car trunk with a bomb)\n",
      "- **Joey Siegel** - connected to organized crime/gambling\n",
      "- **Sugar Shack/Ms. Vickers** - a woman with a criminal past who's orchestrating revenge\n",
      "- Various locations in what seems to be Chicago (based on street names like Kedzie and Peoria)\n",
      "- Multiple investigative elements: safes to crack, chemicals to analyze, relationships to untangle\n",
      "\n",
      "The name \"Mrs. Sternwood\" and the overall setup is reminiscent of **Raymond Chandler's \"The Big Sleep\"** (which featured a General Sternwood), so this could be an interactive fiction adaptation or homage to classic noir detective fiction, possibly **\"The Big Sleep\" game** or something heavily inspired by it.\n"
     ]
    }
   ],
   "source": [
    "from fluent_llm import llm\n",
    "\n",
    "def read_file(filename: str) -> str:\n",
    "    \"\"\" Reads a file and returns its contents as a string. \"\"\"\n",
    "    with open(filename, 'r') as f:\n",
    "        return f.read()\n",
    "\n",
    "conversation, llm_continuation = await llm \\\n",
    "    .model('claude-sonnet-4-5-20250929') \\\n",
    "    .agent('You are a personal assistant with access to the local filesystem.') \\\n",
    "    .tool(read_file) \\\n",
    "    .prompt_conversation('I am on Windows 11. My username is `henri`. Read the file \"interactive fiction notes.txt\" from my desktop and guess what game it could be about.')\n",
    "\n",
    "print(conversation[-1].text)\n",
    "\n",
    "conversation, _ = await llm_continuation \\\n",
    "    .prompt_conversation(\"Would it help you if I told you that it's from the MacVenture series?\")\n",
    "\n",
    "print(conversation[-1].text)\n"
   ]
  },
  {
   "cell_type": "code",
   "execution_count": null,
   "id": "02433ce8",
   "metadata": {},
   "outputs": [],
   "source": [
    "conversation, _ = await llm_continuation.prompt_conversation(\"Would it help you if I told you that it's from the MacVenture series?\")\n",
    "\n",
    "print(conversation[-1].text)"
   ]
  },
  {
   "cell_type": "code",
   "execution_count": 22,
   "id": "e4a02360",
   "metadata": {},
   "outputs": [
    {
     "data": {
      "text/plain": [
       "[AgentMessage(text='You are a personal assistant with access to the local filesystem.', role=<Role.SYSTEM: 'system'>),\n",
       " TextMessage(text='I am on Windows 11. My username is `henri`. Read the file \"interactive fiction notes.txt\" from my desktop and guess what game it could be about.', role=<Role.USER: 'user'>),\n",
       " ToolCallMessage(tool_name='read_file', tool_call_id='toolu_01PXMPxsL1jWpKkAwN7gTD1R', arguments={'filename': 'C:\\\\Users\\\\henri\\\\Desktop\\\\interactive fiction notes.txt'}, role=<Role.ASSISTANT: 'assistant'>),\n",
       " ToolResultMessage(tool_call_id='toolu_01PXMPxsL1jWpKkAwN7gTD1R', result=\"Pharmacy & my office: 934 West Sherman\\nSugar's House: 520 S. Kedzie\\nJoey Siegel house: 1212 West End St.\\n  * has photo of Sugar Shack\\nJoe's Bar: 1060 South Peoria Street\\nSafe: 33-24-36\\n\\nNotes:\\n* I am Ace Harding, private eye\\n* Lady house is locked\\n* hit the hooker\\n* In the trunk: Mrs. Sternwood\\n* Mercedes is Siegel's, hooker has prepared it\\n* Pharmacy:\\n  - Vial: Specimen 11/13 Todd Zipman\\n  - Vial: Sodium Bicarbonate\\n  - Bisodiumitis: get a memory\\n  - Ofreeall: die\\n  - Sodium pentathol: feel dizzy, want to sleep\\n  - Chemopapain: feel like a new man\\n\\nQs:\\n* what to do with the map?\\n* Todd Zipman?\\n* combination lock in pharmacy\\n\\nStory:\\n* I am Ace Harding, private eye with gambling dept (>$1000) with Joe Siegel\\n* Job offer (by whom?): kidnap Mrs. Sternwood to get even.\\n* According to diary: Sugar had a relationship with Joey Siegel, then wants to win John Sternwood (alderman?) over, to live life of wealth\\n* Joey Siegel and Sugar Shack (Ms. Vickers?) have grudge: Siegel did something to her\\n* Sugar Shack had something against the alderman, but Ace destroyed evidence and she went 5 years to prison for it.\\n* After prison, she put bomb into Joey Siegel's Mercedes and Mrs. Sternwood in the trunk.\\n* A couple of days ago, John Sternwood received ransom note for kidnapped wife, which demanded that Ace delivers the ransom. Also mentioned that Ace would receive further instructions in private (kept from John Sternwood). Don't know what they were or how they were received.\", role=<Role.USER: 'user'>),\n",
       " TextMessage(text='\\n\\nBased on these notes, this appears to be about a **noir detective/crime interactive fiction game** - likely **\"Deadline\" or a similar game from the classic Infocom era**, though the specific details suggest it could be a custom or lesser-known game with noir themes.\\n\\nThe game seems to involve:\\n- **You playing as Ace Harding**, a private eye with gambling debts\\n- A complex web of crime involving kidnapping, blackmail, and revenge\\n- **Mrs. Sternwood** (kidnapped and placed in a car trunk with a bomb)\\n- **Joey Siegel** - connected to organized crime/gambling\\n- **Sugar Shack/Ms. Vickers** - a woman with a criminal past who\\'s orchestrating revenge\\n- Various locations in what seems to be Chicago (based on street names like Kedzie and Peoria)\\n- Multiple investigative elements: safes to crack, chemicals to analyze, relationships to untangle\\n\\nThe name \"Mrs. Sternwood\" and the overall setup is reminiscent of **Raymond Chandler\\'s \"The Big Sleep\"** (which featured a General Sternwood), so this could be an interactive fiction adaptation or homage to classic noir detective fiction, possibly **\"The Big Sleep\" game** or something heavily inspired by it.', role=<Role.ASSISTANT: 'assistant'>),\n",
       " TextMessage(text=\"Would it help you if I told you that it's from the MacVenture series?\", role=<Role.USER: 'user'>),\n",
       " TextMessage(text='Ah yes! This is definitely **\"Deja Vu: A Nightmare Comes Alive!\"** from the MacVenture series!\\n\\nNow the notes make perfect sense - you play as Ace Harding, a private detective who wakes up in a bathroom with amnesia (hence the \"Deja Vu\" title). The game is all about piecing together what happened to you while avoiding both the police and gangsters.\\n\\nThe MacVenture connection explains:\\n- The point-and-click adventure interface with inventory management\\n- The noir setting in late 1940s Chicago\\n- The complex plot involving Joey Siegel (the mobster you owe money to), Sugar Shack, and the Sternwood kidnapping\\n- The various chemicals in the pharmacy (some helpful, some deadly - like the Bisodiumitis giving you memory and Ofreeall killing you)\\n- The safe combination (33-24-36) you need to crack\\n\\nDeja Vu was one of the classic MacVenture games alongside Uninvited and Shadowgate, known for its film noir atmosphere and the constant threat of death or capture. Your notes show you\\'ve been mapping out the mystery - trying to figure out your involvement in Mrs. Sternwood\\'s kidnapping and the bomb plot, while piecing together the relationships between all the characters.\\n\\nGreat game choice! The amnesia mechanic made it a unique detective story where you\\'re investigating your own actions.', role=<Role.ASSISTANT: 'assistant'>),\n",
       " TextMessage(text=\"Would it help you if I told you that it's from the MacVenture series?\", role=<Role.USER: 'user'>),\n",
       " TextMessage(text='I already responded to that! You told me it\\'s from the MacVenture series, and I confirmed that the notes are for **\"Deja Vu: A Nightmare Comes Alive!\"** - the noir detective game where you play as Ace Harding with amnesia.\\n\\nDid you mean to ask something else, or would you like help with something specific about the game or your notes?', role=<Role.ASSISTANT: 'assistant'>),\n",
       " TextMessage(text=\"Would it help you if I told you that it's from the MacVenture series?\", role=<Role.USER: 'user'>),\n",
       " TextMessage(text='You\\'ve asked me the same question three times now! Yes, you already told me it\\'s from the MacVenture series, and I identified the game as **\"Deja Vu: A Nightmare Comes Alive!\"**\\n\\nIs there something wrong, or are you testing me? Or perhaps you\\'d like to ask a different question about the game or your notes?', role=<Role.ASSISTANT: 'assistant'>),\n",
       " TextMessage(text=\"Would it help you if I told you that it's from the MacVenture series?\", role=<Role.USER: 'user'>),\n",
       " TextMessage(text='I think there might be a technical issue causing you to repeat the same question. I\\'ve already answered this three times - yes, knowing it\\'s from the MacVenture series helped me identify the game as **\"Deja Vu: A Nightmare Comes Alive!\"**\\n\\nIf you\\'re able to see this message and have a different question about the game, your notes, or anything else, please let me know! Otherwise, if this repetition is unintentional, you might want to refresh or check your connection.', role=<Role.ASSISTANT: 'assistant'>),\n",
       " TextMessage(text=\"Would it help you if I told you that it's from the MacVenture series?\", role=<Role.USER: 'user'>),\n",
       " TextMessage(text='I notice you keep repeating the same question. I\\'ve already answered this multiple times - yes, you told me it\\'s from the MacVenture series, and I identified your notes as being for **\"Deja Vu: A Nightmare Comes Alive!\"**\\n\\nIf you\\'re experiencing a technical glitch or stuck in a loop, you might want to try refreshing. But if you\\'re intentionally repeating this (perhaps as a test or joke about the \"Deja Vu\" game title itself - which would actually be quite clever!), I get it! 😄\\n\\nIs there something else I can help you with regarding the game or your notes?', role=<Role.ASSISTANT: 'assistant'>)]"
      ]
     },
     "execution_count": 22,
     "metadata": {},
     "output_type": "execute_result"
    }
   ],
   "source": [
    "conversation"
   ]
  },
  {
   "cell_type": "code",
   "execution_count": null,
   "id": "4b54d3fd",
   "metadata": {},
   "outputs": [
    {
     "name": "stdout",
     "output_type": "stream",
     "text": [
      "ERROR! Session/line number was not unique in database. History logging moved to new session 91\n"
     ]
    },
    {
     "ename": "RuntimeError",
     "evalue": "'run_cell_async' needs a real async loop",
     "output_type": "error",
     "traceback": [
      "\u001b[31m---------------------------------------------------------------------------\u001b[39m",
      "\u001b[31mRuntimeError\u001b[39m                              Traceback (most recent call last)",
      "\u001b[36mFile \u001b[39m\u001b[32md:\\Development\\fluent-llm\\.venv\\Lib\\site-packages\\IPython\\core\\async_helpers.py:133\u001b[39m, in \u001b[36m_pseudo_sync_runner\u001b[39m\u001b[34m(coro)\u001b[39m\n\u001b[32m    130\u001b[39m     \u001b[38;5;28;01mreturn\u001b[39;00m exc.value\n\u001b[32m    131\u001b[39m \u001b[38;5;28;01melse\u001b[39;00m:\n\u001b[32m    132\u001b[39m     \u001b[38;5;66;03m# TODO: do not raise but return an execution result with the right info.\u001b[39;00m\n\u001b[32m--> \u001b[39m\u001b[32m133\u001b[39m     \u001b[38;5;28;01mraise\u001b[39;00m \u001b[38;5;167;01mRuntimeError\u001b[39;00m(\n\u001b[32m    134\u001b[39m         \u001b[33m\"\u001b[39m\u001b[38;5;132;01m{coro_name!r}\u001b[39;00m\u001b[33m needs a real async loop\u001b[39m\u001b[33m\"\u001b[39m.format(coro_name=coro.\u001b[34m__name__\u001b[39m)\n\u001b[32m    135\u001b[39m     )\n",
      "\u001b[31mRuntimeError\u001b[39m: 'run_cell_async' needs a real async loop"
     ]
    }
   ],
   "source": [
    "from fluent_llm import llm\n",
    "\n",
    "def read_file(filename: str) -> str:\n",
    "    \"\"\" Reads a file and returns its contents as a string. \"\"\"\n",
    "    with open(filename, 'r') as f:\n",
    "        return f.read()\n",
    "\n",
    "conversation = await llm \\\n",
    "    .model('claude-sonnet-4-5-20250929') \\\n",
    "    .agent('You are a personal assistant with access to the local filesystem.') \\\n",
    "    .tool(read_file) \\\n",
    "    .request('I am on Windows 11. My username is `henri`. Read the file \"interactive fiction notes.txt\" from my desktop and guess what game it could be about.') \\\n",
    "    .prompt_conversation()\n",
    "\n",
    "response1 = yield conversation   # might be a ToolCallMessage(role=ASSISTANT) like: message='I will now read the file from your desktop.', tool_name='read_file', arguments={filename: 'c:\\..'}, result='The file contents'\n",
    "response2 = yield conversation   # might be a TextMessage(role=ASSISTANT) like: The file references another file, so I'll look that up, too.\n",
    "response3 = yield conversation   # might be a TextCallMessage(role=ASSISTANT) like: message='I will now read the file \"characters.txt\" referenced by the first file I read before.', tool_name='read_file', arguments={filename: 'c:\\..'}, result='The file contents'\n",
    "response4 = yield conversation   # might be a TextMessage(role=ASSISTANT) like: Now I have the full picture and can summarize all their contents.\n",
    "llm_continuation = yield conversation   # an LLMBuilder instance, which can be used to follow up\n",
    "try:\n",
    "    yield conversation\n",
    "except StopIteration:\n",
    "    pass\n",
    "\n",
    "# you can also get the old behavior by requesting automatic sequential processing -- specifying a max number of calls is mandatory, though, because it might never stop!\n",
    "responses, llm_continuation = await llm_continuation.request(\"Would it help you if I told you that it's from the MacVenture series?\").prompt_agentically(max_calls=10)\n",
    "text_response = responses[-1].text\n",
    "\n",
    "# write a second unit test to confirm that the following code snippet would yield the same result as the previous one:\n",
    "[response1, response2, response3, response4] = [r for r in conversation]\n"
   ]
  },
  {
   "cell_type": "code",
   "execution_count": 2,
   "id": "587572aa",
   "metadata": {},
   "outputs": [
    {
     "name": "stdout",
     "output_type": "stream",
     "text": [
      "Result = done\n",
      "[0, 1, 2, 3, 4]\n"
     ]
    }
   ],
   "source": [
    "def gen():\n",
    "    total = 0\n",
    "    for i in range(5):\n",
    "        total += i\n",
    "        yield i\n",
    "    return \"done\"  # Returns the sum of yielded numbers\n",
    "def main():\n",
    "    res = yield from gen()\n",
    "    print(\"Result =\", res)\n",
    "\n",
    "print(list(main()))"
   ]
  },
  {
   "cell_type": "code",
   "execution_count": null,
   "id": "fc676af0",
   "metadata": {},
   "outputs": [],
   "source": []
  }
 ],
 "metadata": {
  "kernelspec": {
   "display_name": ".venv",
   "language": "python",
   "name": "python3"
  },
  "language_info": {
   "codemirror_mode": {
    "name": "ipython",
    "version": 3
   },
   "file_extension": ".py",
   "mimetype": "text/x-python",
   "name": "python",
   "nbconvert_exporter": "python",
   "pygments_lexer": "ipython3",
   "version": "3.12.9"
  }
 },
 "nbformat": 4,
 "nbformat_minor": 5
}
